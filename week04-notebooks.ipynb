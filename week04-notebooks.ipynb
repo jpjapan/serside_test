{
 "cells": [
  {
   "cell_type": "code",
   "execution_count": 4,
   "id": "82b08dc6",
   "metadata": {},
   "outputs": [],
   "source": [
    "import os\n",
    "\n",
    "# Django จะแนะนำการทำงานแบบ asynchronous (async) ในบางสถานการณ์เพื่อป้องกันการเกิดปัญหาด้านความปลอดภัยหรือเสถียรภาพของระบบ\n",
    "os.environ[\"DJANGO_ALLOW_ASYNC_UNSAFE\"] = \"true\""
   ]
  },
  {
   "cell_type": "code",
   "execution_count": 7,
   "id": "8a1bd596",
   "metadata": {},
   "outputs": [
    {
     "data": {
      "text/plain": [
       "<django.db.models.manager.Manager at 0x154927484d0>"
      ]
     },
     "execution_count": 7,
     "metadata": {},
     "output_type": "execute_result"
    }
   ],
   "source": [
    "from blogs.models import Blog, Author\n",
    "\n",
    "b = Blog(name=\"Server-Side Website Programming\", tagline=\"Aj Bundit\")\n",
    "b.save()\n",
    "\n",
    "b = Blog(name=\"Deep Learning\", tagline=\"Aj Bank\")\n",
    "b.save()\n",
    "\n",
    "b = Blog(name=\"Cloud Computing\", tagline=\"Aj Boy\")\n",
    "b.save()\n",
    "\n",
    "b.name = \"ISAD\"\n",
    "b.save()\n",
    "\n",
    "author = Author(name=\"FewPz\", email=\"sharpkung4826@gmail.com\")\n",
    "author.save()\n",
    "\n",
    "author = Author(name=\"Tackleza\", email=\"tackleza@gmail.com\")\n",
    "author.save()\n",
    "\n",
    "Author.objects"
   ]
  },
  {
   "cell_type": "code",
   "execution_count": 11,
   "id": "a8011574",
   "metadata": {},
   "outputs": [],
   "source": [
    "from datetime import date\n",
    "\n",
    "b = Blog.objects.get(name=\"Cloud Computing\")\n",
    "\n",
    "entry = Entry(\n",
    "    blog=b,\n",
    "    headline=\"Introduction to Cloud Computing\",\n",
    "    body_text=\"This is a comprehensive guide on cloud computing.\",\n",
    "    pub_date=date(2024, 7, 25),\n",
    "    mod_date=date.today(),\n",
    "    number_of_comments=10,\n",
    "    number_of_pingbacks=2,\n",
    "    rating=4\n",
    ")\n",
    "entry.save()"
   ]
  },
  {
   "cell_type": "code",
   "execution_count": 23,
   "id": "dda90016",
   "metadata": {},
   "outputs": [],
   "source": [
    "entry.authors.add(Author.objects.get(pk=1), Author.objects.get(pk=2))"
   ]
  },
  {
   "cell_type": "code",
   "execution_count": 24,
   "id": "8aff1eea",
   "metadata": {},
   "outputs": [
    {
     "data": {
      "text/plain": [
       "<QuerySet [<Entry: Introduction to Cloud Computing>]>"
      ]
     },
     "execution_count": 24,
     "metadata": {},
     "output_type": "execute_result"
    }
   ],
   "source": [
    "Entry.objects.all()"
   ]
  },
  {
   "cell_type": "code",
   "execution_count": null,
   "id": "2eac262a",
   "metadata": {},
   "outputs": [],
   "source": [
    "Entry.objects.filter(headline__startswith=\"Introduction\").exclude(\n",
    "     pub_date__gte=datetime.date.today()\n",
    ").filter(pub_date__gte=datetime.date(2005, 1, 30))"
   ]
  },
  {
   "cell_type": "code",
   "execution_count": 26,
   "id": "a7054eba",
   "metadata": {},
   "outputs": [
    {
     "data": {
      "text/plain": [
       "<QuerySet [<Blog: Beatles Blog>]>"
      ]
     },
     "execution_count": 26,
     "metadata": {},
     "output_type": "execute_result"
    }
   ],
   "source": [
    "Blog.objects.exclude(tagline__startswith=\"Aj\")"
   ]
  },
  {
   "cell_type": "code",
   "execution_count": 27,
   "id": "01898c96",
   "metadata": {},
   "outputs": [
    {
     "data": {
      "text/plain": [
       "<QuerySet [<Blog: Server-Side Website Programming>, <Blog: Deep Learning>, <Blog: Cloud Computing>]>"
      ]
     },
     "execution_count": 27,
     "metadata": {},
     "output_type": "execute_result"
    }
   ],
   "source": [
    "Blog.objects.filter(tagline__startswith=\"Aj\")"
   ]
  },
  {
   "cell_type": "code",
   "execution_count": 29,
   "id": "b2c647eb",
   "metadata": {},
   "outputs": [
    {
     "data": {
      "text/plain": [
       "<Blog: Beatles Blog>"
      ]
     },
     "execution_count": 29,
     "metadata": {},
     "output_type": "execute_result"
    }
   ],
   "source": [
    "Blog.objects.first()"
   ]
  },
  {
   "cell_type": "code",
   "execution_count": 30,
   "id": "246d96ce",
   "metadata": {},
   "outputs": [
    {
     "data": {
      "text/plain": [
       "<Blog: Cloud Computing>"
      ]
     },
     "execution_count": 30,
     "metadata": {},
     "output_type": "execute_result"
    }
   ],
   "source": [
    "Blog.objects.last()"
   ]
  },
  {
   "cell_type": "code",
   "execution_count": null,
   "id": "febbf232",
   "metadata": {},
   "outputs": [],
   "source": []
  },
  {
   "cell_type": "code",
   "execution_count": null,
   "id": "039ea5e3",
   "metadata": {},
   "outputs": [],
   "source": []
  },
  {
   "cell_type": "code",
   "execution_count": null,
   "id": "6147d5cc",
   "metadata": {},
   "outputs": [],
   "source": []
  },
  {
   "cell_type": "code",
   "execution_count": null,
   "id": "c2164acb",
   "metadata": {},
   "outputs": [],
   "source": []
  },
  {
   "cell_type": "code",
   "execution_count": null,
   "id": "6e2319b7",
   "metadata": {},
   "outputs": [],
   "source": []
  },
  {
   "cell_type": "code",
   "execution_count": null,
   "id": "523296c5",
   "metadata": {},
   "outputs": [],
   "source": []
  },
  {
   "cell_type": "code",
   "execution_count": 5,
   "id": "2ddf5647",
   "metadata": {},
   "outputs": [
    {
     "name": "stdout",
     "output_type": "stream",
     "text": [
      "Beatles Blog\n"
     ]
    }
   ],
   "source": [
    "from blogs.models import Blog\n",
    "\n",
    "for blog in Blog.objects.all():\n",
    "    print(blog)"
   ]
  }
 ],
 "metadata": {
  "kernelspec": {
   "display_name": "Django Shell-Plus",
   "language": "python",
   "name": "django_extensions"
  },
  "language_info": {
   "codemirror_mode": {
    "name": "ipython",
    "version": 3
   },
   "file_extension": ".py",
   "mimetype": "text/x-python",
   "name": "python",
   "nbconvert_exporter": "python",
   "pygments_lexer": "ipython3",
   "version": "3.11.9"
  }
 },
 "nbformat": 4,
 "nbformat_minor": 5
}
